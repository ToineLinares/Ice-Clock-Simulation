{
 "cells": [
  {
   "cell_type": "code",
   "execution_count": 14,
   "metadata": {},
   "outputs": [],
   "source": [
    "import numpy as np\n",
    "import matplotlib.pyplot as plt\n",
    "K_agua = np.linspace(0.561, 0.6435, 50)\n",
    "K = 0.5610 #Conductividad Térmica del agua a 0°C en [W/m*K]\n",
    "Radio_Inicial = 0.0225 #[m]\n",
    "R_agua = 0.0062 #radio gota de agua en [m]\n",
    "masa_inicial_hielo = 0.0629 #[kg]\n",
    "m_aceite = 15*masa_inicial_hielo\n",
    "L = 334000 #[J/kg]\n",
    "C_aceite = 1670 # Capacidad Calorifica del aceite vegetal en [J/kg*K]\n",
    "C_agua = 4182 # Capacidad Calorifica del agua en [J/kg*K]\n",
    "rho_hielo = 917.0\n",
    "rho_agua = 1000.0\n",
    "rho_aceite = np.linspace(928.96, 919.41, 20)\n",
    "cte_1 = (3.0)/(4.0*np.pi*rho_hielo)\n",
    "cte_2 = (3.0)/(4.0*np.pi*rho_agua)\n",
    "g = 9.8\n",
    "def ice_clock (T_aceite, T_hielo, masa_hielo, masa_aceite, n):\n",
    "    n_segundos = n\n",
    "    t = np.linspace(0, n_segundos, n_segundos + 1)\n",
    "    m_gota = 0\n",
    "    dQ_h = np.zeros(n_segundos)\n",
    "    dQ_t = np.zeros(n_segundos)\n",
    "    masas_hielo = np.zeros(n_segundos + 1)\n",
    "    masas_hielo[0] = masa_inicial_hielo\n",
    "    masa_agua = 0.0\n",
    "    dt = 1\n",
    "    temperaturas_aceite = np.zeros(n_segundos + 1)\n",
    "    temperaturas_aceite[0] = T_aceite\n",
    "    temperaturas_agua = np.zeros(n_segundos + 1)\n",
    "    dx = 0.01\n",
    "    dx_2 = R_agua/2.0\n",
    "    dQ_a = np.zeros(n_segundos)\n",
    "    T_agua = 0\n",
    "    conteo = 1.0\n",
    "    k_a = 0\n",
    "    f = 0\n",
    "    gotas = np.zeros(n_segundos)\n",
    "    conteo_2 = 0.002467\n",
    "    m_gota_limite = 0.002467\n",
    "    n_gotas = 0\n",
    "    cuenta = []\n",
    "    masas_gotas = []\n",
    "    masa_de_una_gota = []\n",
    "    Rs = np.zeros(n_segundos)\n",
    "    for i in range(n_segundos):\n",
    "        if masa_agua > 0:\n",
    "            hay_agua = 1.0\n",
    "            f = 0.0\n",
    "        else:\n",
    "            hay_agua = 0.0\n",
    "            f = 1.0\n",
    "            \n",
    "        \n",
    "        if masas_hielo[i] > 0:\n",
    "            hay_hielo = 1.0\n",
    "        else:\n",
    "            hay_hielo = 0.0\n",
    "        Rs[i] = ((cte_1*(masas_hielo[0] - masa_agua))**(1.0/3.0))  \n",
    "        dQ_h[i] = -4*np.pi*K*((cte_1*(masas_hielo[0] - masa_agua))**(2.0/3.0))*(temperaturas_aceite[i])*(dt/dx)*hay_hielo\n",
    "        dQ_a[i] = -4*np.pi*K_agua[k_a]*((cte_2*masa_agua)**(2.0/3.0))*((temperaturas_aceite[i]) - (temperaturas_agua[i]))*(dt/dx_2)*hay_agua\n",
    "        dQ_t[i] = dQ_h[i] + dQ_a[i]\n",
    "        temperaturas_aceite[i+1] = temperaturas_aceite[0] + ((sum(dQ_t))/(m_aceite*C_aceite))\n",
    "        temperaturas_agua[i+1] = temperaturas_agua[0]-((hay_agua*sum(dQ_a[:i]))/(C_agua*(masa_agua + f)))\n",
    "        masa_agua = np.abs(sum(dQ_h))/L\n",
    "        masas_hielo[i+1] = masas_hielo[0] - masa_agua\n",
    "        \n",
    "        if temperaturas_agua[i] >= conteo:\n",
    "            k_a += 1\n",
    "            conteo += 1.0\n",
    "            \n",
    "        if masa_agua < conteo_2:\n",
    "            gotas[i] = 0\n",
    "            masa_de_una_gota.append(masa_agua - (conteo_2 - m_gota_limite))\n",
    "            \n",
    "        if masa_agua >= conteo_2:\n",
    "            gotas[i] = 1\n",
    "            n_gotas += 1\n",
    "            cuenta.append(i)\n",
    "            masa_de_una_gota.append(0.0)\n",
    "            #temperaturas_agua[i+1] = temperaturas_agua[i]*(n_gotas-1)/(n_gotas)\n",
    "            conteo_2 += 0.002467\n",
    "    #T_f = -((masas_hielo[0] - ((sum(dQ_h))/(L)))*L + ((sum(dQ_h))/(L))*C_agua*temperaturas_agua[-1] - m_aceite*C_aceite*temperaturas_aceite[0])*((1.0)/(m_aceite*C_aceite))\n",
    "    t = t/60  \n",
    "    #Q = np.zeros(n_segundos)\n",
    "    #for i in range(len(t)-1):\n",
    "        #Q[i] = sum(dQ_t[:i])\n",
    "\n",
    "    #plt.figure(figsize = (10, 7))\n",
    "    #plt.plot(t[:n_segundos], dQ_t[:n_segundos])\n",
    "    #plt.grid()\n",
    "    #plt.xlabel('t (min)')\n",
    "    #plt.ylabel('Calor (J)')\n",
    "    #plt.savefig('Calor')\n",
    "    \n",
    "    #plt.figure(figsize = (10, 7))\n",
    "    #plt.plot(t[:n_segundos], dQ_h[:n_segundos])\n",
    "    #plt.grid()\n",
    "    #plt.xlabel('t (min)')\n",
    "    #plt.ylabel('Calor_hielo (J)')\n",
    "    #plt.savefig('Calor_hielo')\n",
    "\n",
    "    #plt.figure(figsize = (10, 7))\n",
    "    #plt.plot(t[:n_segundos], dQ_a[:n_segundos])\n",
    "    #plt.grid()\n",
    "    #plt.xlabel('t (min)')\n",
    "    #plt.ylabel('Calor_agua (J)')\n",
    "    #plt.savefig('Calor_agua')\n",
    "    \n",
    "    #plt.figure(figsize = (10, 7))\n",
    "    #plt.plot(t[:n_segundos], temperaturas_aceite[:n_segundos])\n",
    "    #plt.grid()\n",
    "    #plt.xlabel('t (min)')\n",
    "    #plt.ylabel('T_aceite (°C)')\n",
    "    #plt.savefig('T_aceite')\n",
    "    \n",
    "    tt = t[:len(t)-1]\n",
    "    plt.figure(figsize = (10, 7))\n",
    "    plt.scatter(tt[gotas>0], gotas[gotas>0])\n",
    "    plt.grid()\n",
    "    plt.xlabel('t (min)')\n",
    "    plt.ylabel('hay gota')\n",
    "    plt.title('Temperatura Inicial del Aceite = {} °C'.format(T_aceite))\n",
    "    plt.savefig('gotas')\n",
    "    \n",
    "    #plt.figure(figsize = (10, 7))\n",
    "    #plt.plot(t[:n_segundos], masas_hielo[:n_segundos])\n",
    "    #plt.grid()\n",
    "    #plt.xlabel('t (min)')\n",
    "    #plt.ylabel('masa_hielo (kg)')\n",
    "    #plt.savefig('hielo')\n",
    "    \n",
    "    #plt.figure(figsize = (10, 7))\n",
    "    #plt.plot(t[:n_segundos], Q[:n_segundos])\n",
    "    #plt.grid()\n",
    "    #plt.xlabel('t (min)')\n",
    "    #plt.ylabel('Q acumulado (J)')\n",
    "    #plt.savefig('Q_Acumulado')\n",
    "    \n",
    "    tt = tt[gotas>0]\n",
    "    return gotas, tt\n",
    "    #return np.array(masa_de_una_gota), masas_hielo, temperaturas_aceite, Rs\n",
    "\n",
    "#EL SIGUIENTE CODIGO DENERA GRAFICAS DE PERIODO VS TIEMPO PARA DIFERENTES TEMPERATURAS INICIALES \n",
    "    #ms = []\n",
    "    #for i in range(6, 40):\n",
    "    #    c, d = ice_clock(i, 0, masa_inicial_hielo, m_aceite)\n",
    "    #    periodo = []\n",
    "    #    conteo = 0\n",
    "    #    for j in range(len(c)):\n",
    "    #        if c[j] == 0:\n",
    "    #            conteo += 1\n",
    "    #        else:\n",
    "    #            periodo.append(conteo)\n",
    "    #            conteo = 0\n",
    "    #    print(d)\n",
    "    #    T = np.array(periodo)\n",
    "    #    ms.append(T)\n",
    "    #    plt.figure(figsize = (10, 7))\n",
    "    #    plt.plot(d, T)\n",
    "    #    plt.grid()\n",
    "    #    plt.xlabel('t(s)')\n",
    "    #    plt.ylabel('Periodo (s)')\n",
    "    #    plt.title('{} °C'.format(i))\n",
    "    \n",
    "#EL SIGUIENTE CODIGO GENERA GRAFICA DE PENDIENTE PROMEDIO VS TEMPERATURA INICIAL DEL ACEITE, PARA ESTUDIAR EL EFECTO DE LA TEMPERATURA EN EL CAMBIO DEL PERIODO CON EL TIEMPO\n",
    "\n",
    "#mss = np.zeros(len(ms))\n",
    "#ps = []\n",
    "#proms = np.zeros(len(ms))\n",
    "#for i in range(len(ms)):\n",
    "#    for j in range(1, len(ms[i])):\n",
    "#        m = (ms[i][j] - ms[i][j-1])/(d)\n",
    "#        ps.append(m)\n",
    "#    proms[i] = np.mean(np.array(ps))\n",
    "#plt.figure(figsize = (10,7))\n",
    "#plt.grid()\n",
    "#plt.ylabel('Pendiente')\n",
    "#plt.xlabel('T_aceite_inicial (°C)')\n",
    "#plt.plot(proms)"
   ]
  },
  {
   "cell_type": "code",
   "execution_count": 13,
   "metadata": {},
   "outputs": [
    {
     "data": {
      "image/png": "[encoded data removed]",
      "text/plain": [
       "<Figure size 720x504 with 1 Axes>"
      ]
     },
     "metadata": {
      "needs_background": "light"
     },
     "output_type": "display_data"
    }
   ],
   "source": [
    "#EL SIGUIENTE CODIGO DENERA GRAFICAS DE PERIODO VS TIEMPO PARA DIFERENTES TEMPERATURAS INICIALES\n",
    "ms = []\n",
    "n = 1800\n",
    "conteo_2 = 1\n",
    "for i in range(8, 40):\n",
    "#while conteo_2 <= 100:\n",
    "    \n",
    "    c, d = ice_clock(i, 0, 0.041, 0.44, n)\n",
    "    periodo = []\n",
    "    conteo = 0\n",
    "    for j in range(len(c)):\n",
    "        if c[j] == 0:\n",
    "            conteo += 1\n",
    "        else:\n",
    "            periodo.append(conteo)\n",
    "            conteo = 0\n",
    "\n",
    "    T = np.array(periodo)\n",
    "    ms.append(T)\n",
    "    plt.figure(figsize = (10, 7))\n",
    "    #plt.plot(d, T)\n",
    "    #plt.grid()\n",
    "    #plt.xlabel('t(s)')\n",
    "    #plt.ylabel('Periodo (s)')\n",
    "    plt.title('Masa Aceite = {} veces Masa Inicial Hielo '.format(5*conteo_2))\n",
    "    #plt.savefig('Periodo {} veces Masa Inicial Hielo'.format(5*conteo_2))\n",
    "    #conteo_2 += 1\n",
    "mss = np.zeros(len(ms))\n",
    "ps = []\n",
    "proms = np.zeros(len(ms))\n",
    "for i in range(len(ms)):\n",
    "    for j in range(1, len(ms[i])):\n",
    "        m = (ms[i][j] - ms[i][j-1])/(d)\n",
    "        ps.append(m)\n",
    "    proms[i] = np.mean(np.array(ps))\n",
    "\n",
    "plt.figure(figsize = (10,7))\n",
    "plt.grid()\n",
    "plt.ylabel('d (Periodo)/ dt')\n",
    "plt.xlabel('Temperatura Inicial del Aceite (°C)')\n",
    "plt.plot(proms)\n",
    "plt.savefig('Pendiente')"
   ]
  },
  {
   "cell_type": "code",
   "execution_count": null,
   "metadata": {},
   "outputs": [],
   "source": [
    "masa_inicial_hielo = 0.0629 #[kg]\n",
    "m_aceite = 15*masa_inicial_hielo\n",
    "c, d = ice_clock(20, 0, masa_inicial_hielo, m_aceite, 1800)"
   ]
  },
  {
   "cell_type": "code",
   "execution_count": 85,
   "metadata": {},
   "outputs": [
    {
     "data": {
      "image/png": "[encoded data removed]",
      "text/plain": [
       "<Figure size 720x504 with 1 Axes>"
      ]
     },
     "metadata": {
      "needs_background": "light"
     },
     "output_type": "display_data"
    }
   ],
   "source": [
    "masa_inicial_hielo = 0.0629 #[kg]\n",
    "m_aceite = 150*masa_inicial_hielo\n",
    "c, d = ice_clock(20, 0, masa_inicial_hielo, m_aceite, 1800)"
   ]
  },
  {
   "cell_type": "code",
   "execution_count": 3,
   "metadata": {},
   "outputs": [],
   "source": [
    "def densidad_aceite(T):\n",
    "    rho_v = np.zeros(len(T))\n",
    "    Temp = np.zeros(len(T))\n",
    "    for j in range(len(Temp)):\n",
    "        Temp[j] = np.int(T[j])\n",
    "    for i in range(len(rho_v)):\n",
    "        c = int(Temp[i] - 1)\n",
    "        rho_v[i] = rho_aceite[c]\n",
    "    return rho_v\n",
    "\n",
    "def aceleracion_bajando(m_gota, rho_vegetal, r):\n",
    "    a = np.zeros(len(m_gota))\n",
    "    for i in range(len(a)):\n",
    "        a[i] = ((m_gota[i] - rho_vegetal[i]*(4.0/3.0)*np.pi*r[i]*r[i]*r[i])/(m_gota[i]))*g\n",
    "    return a\n",
    "\n",
    "def aceleracion(m_hielo, m_gota, rho_vegetal, r):\n",
    "    a_s = np.zeros(len(m_gota))\n",
    "    d = 1\n",
    "    for i in range(2, len(a_s)):\n",
    "        if m_gota[i] < 0.0009:\n",
    "            d = 0\n",
    "        a_s[i] = (((rho_vegetal[i]*(4.0/3.0)*np.pi*r[i]*r[i]*r[i] - 917*(4.0/3.0)*np.pi*r[i]*r[i]*r[i])*d - m_gota[i])/(917*(4.0/3.0)*np.pi*r[i]*r[i]*r[i] + m_gota[i]))*g\n",
    "    return a_s\n",
    "\n",
    "def posicion(aceleracion):\n",
    "    delta_t = 1\n",
    "    x = np.zeros(len(aceleracion))\n",
    "    for i in range(2, len(x)):\n",
    "        x[i] = (1.0/4.0)*delta_t*delta_t*(aceleracion[i] + 2.0*aceleracion[i-1] + aceleracion[i-2])\n",
    "    return x\n"
   ]
  },
  {
   "cell_type": "code",
   "execution_count": 14,
   "metadata": {},
   "outputs": [
    {
     "data": {
      "image/png": "[encoded data removed]",
      "text/plain": [
       "<Figure size 720x504 with 1 Axes>"
      ]
     },
     "metadata": {
      "needs_background": "light"
     },
     "output_type": "display_data"
    }
   ],
   "source": [
    "n = 1800\n",
    "t = np.linspace(0,n,n+1)\n",
    "matriz_gotas, masa_del_hielo, temperatura_del_aceite, radio = ice_clock(20, 0, masa_inicial_hielo, m_aceite, n)\n",
    "\n",
    "#Rho = densidad_aceite(temperatura_del_aceite)\n",
    "#A = aceleracion(masa_del_hielo, matriz_gotas, Rho, radio)\n",
    "#P = posicion(A)\n",
    "\n",
    "#plt.figure(figsize = (10,7))\n",
    "#plt.plot(t[:n], P)\n",
    "#plt.grid()\n",
    "\n",
    "    \n"
   ]
  },
  {
   "cell_type": "code",
   "execution_count": 145,
   "metadata": {},
   "outputs": [
    {
     "data": {
      "image/png": "[encoded data removed]",
      "text/plain": [
       "<Figure size 720x504 with 1 Axes>"
      ]
     },
     "metadata": {
      "needs_background": "light"
     },
     "output_type": "display_data"
    }
   ],
   "source": [
    "t_hot = np.array([59, 73, 95, 114, 131, 138, 142, 148, 162, 175, 189, 205])\n",
    "t_h = np.zeros(len(t_hot))\n",
    "\n",
    "for i in range(1, len(t_h)):\n",
    "    t_h[i-1] = sum(t_hot[:i])\n",
    "t_h[-1] = 1631\n",
    "g = np.ones(len(t_h))\n",
    "plt.figure(figsize = (10,7))\n",
    "plt.scatter(t_h/60, g)\n",
    "plt.grid()\n",
    "plt.xlabel('t(s)')\n",
    "plt.ylabel('hay gota')\n",
    "plt.title('Aceite Bebé Caliente')\n",
    "plt.savefig('AceiteBebeCaliente')"
   ]
  },
  {
   "cell_type": "code",
   "execution_count": 152,
   "metadata": {},
   "outputs": [
    {
     "data": {
      "text/plain": [
       "0.05591187668605124"
      ]
     },
     "execution_count": 152,
     "metadata": {},
     "output_type": "execute_result"
    },
    {
     "data": {
      "image/png": "[encoded data removed]",
      "text/plain": [
       "<Figure size 720x504 with 1 Axes>"
      ]
     },
     "metadata": {
      "needs_background": "light"
     },
     "output_type": "display_data"
    },
    {
     "data": {
      "image/png": "[encoded data removed]",
      "text/plain": [
       "<Figure size 720x504 with 1 Axes>"
      ]
     },
     "metadata": {
      "needs_background": "light"
     },
     "output_type": "display_data"
    }
   ],
   "source": [
    "t_cold = np.array([88, 97, 104, 117, 131, 150, 158, 158, 154, 152, 156])\n",
    "def promedio (tiempos):\n",
    "    t_c = np.zeros(len(tiempos))\n",
    "    for i in range(1, len(t_c)):\n",
    "        t_c[i-1] = sum(tiempos[:i])\n",
    "    t_c[-1] = sum(t_cold)\n",
    "    t_cc = np.zeros(len(t_c))\n",
    "    for i in range(len(t_cc)):\n",
    "        t_cc[i] = t_c[i]\n",
    "    g_c = np.ones(len(t_cc))\n",
    "\n",
    "    T = np.zeros(len(t_cc))\n",
    "    for i in range(1, len(T)):\n",
    "        T[i-1] = (t_cc[i] - t_cc[i-1])\n",
    "    TT = np.zeros(len(T)-1)\n",
    "    for i in range(len(TT)):\n",
    "        TT[i] = T[i]\n",
    "    m = np.zeros(len(TT))\n",
    "    for i in range(1, len(m)):\n",
    "        m[i-1] = (TT[i] - TT[i-1])/(t_cc[i] - t_cc[i-1])\n",
    "    mm = sum(m[:len(m)-1])/(len(m)-1)\n",
    "    plt.figure(figsize = (10,7))\n",
    "    plt.scatter(t_cc/60, g_c)\n",
    "    plt.grid()\n",
    "    plt.xlabel('t(s)')\n",
    "    plt.ylabel('hay gota')\n",
    "    plt.title('Aceite Bebé Frío, d(Periodo)/dt = {:.4F}'.format(mm))\n",
    "    plt.savefig('AceiteBebeFrio')\n",
    "\n",
    "    plt.figure(figsize = (10,7))\n",
    "    plt.plot(TT)\n",
    "    \n",
    "    return mm\n",
    "promedio(t_cold)"
   ]
  },
  {
   "cell_type": "code",
   "execution_count": 144,
   "metadata": {},
   "outputs": [
    {
     "data": {
      "text/plain": [
       "(array([  88.,  185.,  289.,  406.,  537.,  687.,  845., 1003., 1157.,\n",
       "        1309., 1465.]),\n",
       " array([  88.,  185.,  289.,  406.,  537.,  687.,  845., 1003., 1157.,\n",
       "        1309., 1465.]),\n",
       " array([ 97., 104., 117., 131., 150., 158., 158., 154., 152., 156.,   0.]),\n",
       " array([ 97., 104., 117., 131., 150., 158., 158., 154., 152., 156.]),\n",
       " array([ 0.07216495,  0.125     ,  0.11965812,  0.14503817,  0.05333333,\n",
       "         0.        , -0.02531646, -0.01298701,  0.02631579,  0.        ]),\n",
       " 0.05591187668605124)"
      ]
     },
     "execution_count": 144,
     "metadata": {},
     "output_type": "execute_result"
    }
   ],
   "source": [
    "t_cc, t_c, T, TT, m, mm"
   ]
  },
  {
   "cell_type": "code",
   "execution_count": 33,
   "metadata": {},
   "outputs": [
    {
     "data": {
      "text/plain": [
       "0.4595"
      ]
     },
     "execution_count": 33,
     "metadata": {},
     "output_type": "execute_result"
    }
   ],
   "source": [
    "919*0.0005"
   ]
  },
  {
   "cell_type": "code",
   "execution_count": 34,
   "metadata": {},
   "outputs": [
    {
     "data": {
      "text/plain": [
       "459.5"
      ]
     },
     "execution_count": 34,
     "metadata": {},
     "output_type": "execute_result"
    }
   ],
   "source": [
    "0.919*500"
   ]
  },
  {
   "cell_type": "code",
   "execution_count": 36,
   "metadata": {},
   "outputs": [
    {
     "data": {
      "text/plain": [
       "664.5"
      ]
     },
     "execution_count": 36,
     "metadata": {},
     "output_type": "execute_result"
    }
   ],
   "source": [
    "0.82*250 + 459.5"
   ]
  },
  {
   "cell_type": "code",
   "execution_count": 15,
   "metadata": {},
   "outputs": [
    {
     "data": {
      "text/plain": [
       "(array([0., 0., 0., ..., 0., 0., 0.]),\n",
       " array([ 1.66666667,  3.46666667,  5.36666667,  7.4       ,  9.58333333,\n",
       "        11.93333333, 14.45      , 17.18333333, 20.15      , 23.38333333,\n",
       "        26.91666667]))"
      ]
     },
     "execution_count": 15,
     "metadata": {},
     "output_type": "execute_result"
    },
    {
     "data": {
      "image/png": "[encoded data removed]",
      "text/plain": [
       "<Figure size 720x504 with 1 Axes>"
      ]
     },
     "metadata": {
      "needs_background": "light"
     },
     "output_type": "display_data"
    }
   ],
   "source": [
    "ice_clock(18.5, 0, 0.041, 0.44, 1800)"
   ]
  },
  {
   "cell_type": "code",
   "execution_count": 16,
   "metadata": {},
   "outputs": [
    {
     "data": {
      "text/plain": [
       "array([7.34024786, 6.80834584, 6.20045782, 5.72326572, 5.34266028,\n",
       "       4.98736364, 4.6858035 , 4.41265915, 4.17588161, 3.96845159,\n",
       "       3.77852422, 3.6098417 , 3.45472995, 3.31944517, 3.1931142 ,\n",
       "       3.07649022, 2.97155928, 2.87422882, 2.78632515, 2.70351037,\n",
       "       2.63059115, 2.56179416, 2.49633337, 2.4383064 , 2.3832386 ,\n",
       "       2.32988067, 2.28311431, 2.23867189, 2.19492941, 2.15774417,\n",
       "       2.12244676, 2.08768124])"
      ]
     },
     "execution_count": 16,
     "metadata": {},
     "output_type": "execute_result"
    }
   ],
   "source": [
    "proms"
   ]
  },
  {
   "cell_type": "code",
   "execution_count": null,
   "metadata": {},
   "outputs": [],
   "source": []
  },
  {
   "cell_type": "code",
   "execution_count": null,
   "metadata": {},
   "outputs": [],
   "source": []
  },
  {
   "cell_type": "code",
   "execution_count": null,
   "metadata": {},
   "outputs": [],
   "source": []
  }
 ],
 "metadata": {
  "kernelspec": {
   "display_name": "Python 3",
   "language": "python",
   "name": "python3"
  },
  "language_info": {
   "codemirror_mode": {
    "name": "ipython",
    "version": 3
   },
   "file_extension": ".py",
   "mimetype": "text/x-python",
   "name": "python",
   "nbconvert_exporter": "python",
   "pygments_lexer": "ipython3",
   "version": "3.8.5"
  }
 },
 "nbformat": 4,
 "nbformat_minor": 4
}
